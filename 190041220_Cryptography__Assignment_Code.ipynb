{
  "nbformat": 4,
  "nbformat_minor": 0,
  "metadata": {
    "colab": {
      "provenance": []
    },
    "kernelspec": {
      "name": "python3",
      "display_name": "Python 3"
    },
    "language_info": {
      "name": "python"
    }
  },
  "cells": [
    {
      "cell_type": "markdown",
      "source": [
        "## Name: Tasfia Tasneem Annesha\n",
        "### Id: 190041220\n",
        "\n"
      ],
      "metadata": {
        "id": "_T_WazItFNlp"
      }
    },
    {
      "cell_type": "code",
      "execution_count": null,
      "metadata": {
        "colab": {
          "base_uri": "https://localhost:8080/"
        },
        "id": "oU12RoVG_lAy",
        "outputId": "6f3ed114-b17f-429e-8271-5f01a6036bd1"
      },
      "outputs": [
        {
          "output_type": "stream",
          "name": "stdout",
          "text": [
            "Requirement already satisfied: cryptography in /usr/local/lib/python3.10/dist-packages (41.0.7)\n",
            "Requirement already satisfied: cffi>=1.12 in /usr/local/lib/python3.10/dist-packages (from cryptography) (1.16.0)\n",
            "Requirement already satisfied: pycparser in /usr/local/lib/python3.10/dist-packages (from cffi>=1.12->cryptography) (2.21)\n"
          ]
        }
      ],
      "source": [
        "#Installing Required Libraries\n",
        "!pip install cryptography"
      ]
    },
    {
      "cell_type": "code",
      "source": [
        "# Import necessary modules from the cryptography library\n",
        "from cryptography.hazmat.backends import default_backend #for providing cryptographic primitives and algorithms\n",
        "from cryptography.hazmat.primitives import hashes\n",
        "from cryptography.hazmat.primitives.asymmetric import rsa\n",
        "from cryptography.hazmat.primitives.asymmetric import padding\n",
        "from cryptography.hazmat.primitives import serialization\n",
        "from cryptography.hazmat.primitives.ciphers import Cipher, algorithms, modes\n"
      ],
      "metadata": {
        "id": "eH1SFNP2BxPz"
      },
      "execution_count": null,
      "outputs": []
    },
    {
      "cell_type": "code",
      "source": [
        "# Function to generate a key pair for asymmetric encryption (RSA)\n",
        "def generate_key_pair():\n",
        "    private_key = rsa.generate_private_key(\n",
        "        public_exponent=65537,\n",
        "        key_size=2048,\n",
        "        backend=default_backend()\n",
        "    )\n",
        "    public_key = private_key.public_key()\n",
        "\n",
        "    return private_key, public_key\n",
        "\n"
      ],
      "metadata": {
        "id": "gHdhPVLXEF1V"
      },
      "execution_count": null,
      "outputs": []
    },
    {
      "cell_type": "code",
      "source": [
        "# Function to encrypt a message using asymmetric encryption\n",
        "def encrypt_asymmetric(message, public_key):\n",
        "    cipher_text = public_key.encrypt(\n",
        "        message.encode(),\n",
        "        padding.OAEP(\n",
        "            mgf=padding.MGF1(algorithm=hashes.SHA256()),\n",
        "            algorithm=hashes.SHA256(),\n",
        "            label=None\n",
        "        )\n",
        "    )\n",
        "    return cipher_text\n",
        "\n"
      ],
      "metadata": {
        "id": "I5s5VQoMEIr0"
      },
      "execution_count": null,
      "outputs": []
    },
    {
      "cell_type": "code",
      "source": [
        "# Function to decrypt a message using asymmetric decryption\n",
        "def decrypt_asymmetric(cipher_text, private_key):\n",
        "    plain_text = private_key.decrypt(\n",
        "        cipher_text,\n",
        "        padding.OAEP(\n",
        "            mgf=padding.MGF1(algorithm=hashes.SHA256()),\n",
        "            algorithm=hashes.SHA256(),\n",
        "            label=None\n",
        "        )\n",
        "    )\n",
        "    return plain_text.decode()\n"
      ],
      "metadata": {
        "id": "RnPYHU5vEMXa"
      },
      "execution_count": null,
      "outputs": []
    },
    {
      "cell_type": "code",
      "source": [
        "# Function to encrypt a message using symmetric encryption (AES)\n",
        "def encrypt_symmetric(message, key):\n",
        "    iv = b'\\x00' * 16  # Initialization vector\n",
        "    cipher = Cipher(algorithms.AES(key), modes.CFB(iv), backend=default_backend())\n",
        "    encryptor = cipher.encryptor()\n",
        "    cipher_text = encryptor.update(message.encode()) + encryptor.finalize()\n",
        "    return cipher_text\n",
        "\n",
        "# Function to decrypt a message using symmetric decryption (AES)\n",
        "def decrypt_symmetric(cipher_text, key):\n",
        "    iv = b'\\x00' * 16\n",
        "    cipher = Cipher(algorithms.AES(key), modes.CFB(iv), backend=default_backend())\n",
        "    decryptor = cipher.decryptor()\n",
        "    plain_text = decryptor.update(cipher_text) + decryptor.finalize()\n",
        "    return plain_text.decode()\n",
        "\n"
      ],
      "metadata": {
        "id": "gJQVx_HgEOuJ"
      },
      "execution_count": null,
      "outputs": []
    },
    {
      "cell_type": "code",
      "source": [
        "# Example : Generate key pair\n",
        "private_key, public_key = generate_key_pair()\n",
        "\n",
        "# Define the original message\n",
        "message = \"Hello, this is Cryptography and Network Security Assignment!\"\n",
        "\n"
      ],
      "metadata": {
        "id": "IzEk4ruIESOu"
      },
      "execution_count": null,
      "outputs": []
    },
    {
      "cell_type": "code",
      "source": [
        "# Encrypt with asymmetric public key\n",
        "cipher_text_asymmetric = encrypt_asymmetric(message, public_key)\n",
        "\n",
        "# Encrypt the symmetric key with asymmetric public key\n",
        "symmetric_key = b'\\x01' * 32  # Replace with a securely generated key\n",
        "cipher_text_symmetric_key = encrypt_asymmetric(symmetric_key.decode(), public_key)\n",
        "\n",
        "# Decrypt the symmetric key with the asymmetric private key\n",
        "decrypted_symmetric_key = decrypt_asymmetric(cipher_text_symmetric_key, private_key)\n"
      ],
      "metadata": {
        "id": "WOn1qXnNEU-d"
      },
      "execution_count": null,
      "outputs": []
    },
    {
      "cell_type": "code",
      "source": [
        "# Encrypt the message with the symmetric key\n",
        "cipher_text_symmetric = encrypt_symmetric(message, decrypted_symmetric_key.encode())\n",
        "\n",
        "# Decrypt the message with the symmetric key\n",
        "decrypted_message = decrypt_symmetric(cipher_text_symmetric, decrypted_symmetric_key.encode())\n"
      ],
      "metadata": {
        "id": "S4EtIBGBEcnp"
      },
      "execution_count": null,
      "outputs": []
    },
    {
      "cell_type": "code",
      "source": [
        "print(\"Original message:\", message)\n",
        "print(\"Encrypted message (symmetric):\", cipher_text_symmetric)\n",
        "print(\"Encrypted message (asymmetric):\", cipher_text_asymmetric)\n",
        "print(\"Decrypted message:\", decrypted_message)"
      ],
      "metadata": {
        "colab": {
          "base_uri": "https://localhost:8080/"
        },
        "id": "Z0V-gX8sEbxV",
        "outputId": "183b0138-2547-4967-81ef-cd4f243f22f3"
      },
      "execution_count": null,
      "outputs": [
        {
          "output_type": "stream",
          "name": "stdout",
          "text": [
            "Original message: Hello, this is Cryptography and Network Security Assignment!\n",
            "Encrypted message (symmetric): b':\\xfd\\xa6\\xc9\\n/>\\xd9\\xae\\xa7P\\xf2W\\xd5C;\\xf5^\\x8d\\xbe\\xeb\\x07\\xfb\\xe8\\x8f\\xe8\\x07\\xee\\xed\\xdcp\\xc5\\xdb\\xd5>\\x19\\xc67\\xeb(\\x03\\x06\\x15\\x1d\\x08o\\x83Z\\xde\\xe2\\xa4\\xd1\\xack-Y\\xa6\\xc14\\xaa'\n",
            "Encrypted message (asymmetric): b'\\xa0\\t\\x94\\xbb\\xe1R\\xde\\ti@\\x03\\xba_\\x82`\\x8d\\xe9\\xc9I\\xdf\\xfbD5%\\xf4/\\xed6\\x11\\xdc\\xba\\xa7)\\xfb\\xba\\xa3L\"\\x1d\\xabq\\xaf@\\xc6\\x90\\x8aD\\xf56\\xe6|E\\xe7&\\xee$K\\x82\\xa7\\x11\\x14\\x99l\\xa51r\\xb2\\x07\\x98\\x02`\\x8b9\\xf4pI\\xb6\\xe9\\x03&\\xf0j\\xb7G\\xf1\\xbf\\xb4\\xfa\\x17\\x03\\x00\\x1cbZ\\x06J?\\xaf\\x9f:}\\x8d\\x1d\\xa0\\x80s\\xd2\\x95\\x99\\x8f[\\xdasZ\\xd9@\\xe6\\xb8\\x1d\\x85i\\xe9\\xb1\\xe2\\x97k\\xb3\\x15\\xe8^\\xf1\\x08\\xfe\\x85\\x0b\\xc0\\xd1\\x05\\x82\\xe9:\\x93\\n\\xeb\\x9a\\x00\\xb7\\x80\\x0e\\x9c\\xd8\\xcf\\x18\\x8ff\\xb9\\xbb@o\\x04V}\\x1c\\x81\\xcb\\n\\xcbZr\\xbb\\x9ev\\xc4\\xe2Oc\\x1bI\\xc54\\xe0x\\'\\xe0\\x1b/\\xe2\\xda\\xd7@\\x05\\xb2\\xea2\\xab[\\x98\\xc9\\xb7p\\x0f\\x00b\\xe8aFuKi7\\x15\\xa7\\xeb}\\x1ci\\xc8e\\x1ai\\xc8\\xb1\\xfa1\\x07\\'{\\xed\\xda\"\\x1f\\xc0\\xe8^\\x9e\\x18\\xcb\\xb1l0NI\\xd9=\\xa1|\\xbb+\\xbb\\xba\\x1b\\x9b\\x0b\\xad\\xde\\x01'\n",
            "Decrypted message: Hello, this is Cryptography and Network Security Assignment!\n"
          ]
        }
      ]
    }
  ]
}